{
 "cells": [
  {
   "cell_type": "markdown",
   "metadata": {},
   "source": [
    "# Project Team: Walking in Paris"
   ]
  },
  {
   "cell_type": "markdown",
   "metadata": {},
   "source": [
    "Objective:\n",
    "---------------\n",
    "Identify the attributes that make Airbnb “Successful\" in Hawaii"
   ]
  },
  {
   "cell_type": "code",
   "execution_count": 2,
   "metadata": {},
   "outputs": [],
   "source": [
    "# Dependencies and Setup\n",
    "import matplotlib.pyplot as plt\n",
    "import pandas as pd\n",
    "import numpy as np\n",
    "import requests\n",
    "import time\n",
    "\n",
    "# Import statistic library\n",
    "import scipy.stats as stats\n",
    "from scipy.stats import linregress\n",
    "\n",
    "# Import seaborn library to create figure\n",
    "import seaborn as sns\n",
    "\n",
    "import pprint\n",
    "import json\n",
    "from time import sleep\n",
    "from datetime import date\n",
    "import zipfile\n",
    "\n",
    "# Incorporated citipy to determine city based on latitude and longitude\n",
    "# pip install citipy\n",
    "from citipy import citipy\n",
    "\n",
    "# added modules by lance\n",
    "import gmaps\n",
    "import os\n",
    "import scipy.stats as stats\n",
    "from api_keys import g_key\n",
    "gmaps.configure(api_key=g_key)\n",
    "\n",
    "# Output File location\n",
    "output_folder = \"output_data\""
   ]
  },
  {
   "cell_type": "code",
   "execution_count": 3,
   "metadata": {},
   "outputs": [],
   "source": [
    "# This code will suprese the warning on the code\n",
    "# import warnings filter\n",
    "from warnings import simplefilter\n",
    "# ignore all future warnings\n",
    "simplefilter(action='ignore', category=FutureWarning)\n",
    "simplefilter(action=\"ignore\", category=RuntimeWarning)"
   ]
  },
  {
   "cell_type": "markdown",
   "metadata": {},
   "source": [
    "OPEN THE FILE\n",
    "-----------------------\n",
    "Open the dataset from the zip file and ensure memory resources"
   ]
  },
  {
   "cell_type": "code",
   "execution_count": 5,
   "metadata": {},
   "outputs": [
    {
     "name": "stdout",
     "output_type": "stream",
     "text": [
      "Data set has 23745 rows\n"
     ]
    },
    {
     "data": {
      "text/html": [
       "<div>\n",
       "<style scoped>\n",
       "    .dataframe tbody tr th:only-of-type {\n",
       "        vertical-align: middle;\n",
       "    }\n",
       "\n",
       "    .dataframe tbody tr th {\n",
       "        vertical-align: top;\n",
       "    }\n",
       "\n",
       "    .dataframe thead th {\n",
       "        text-align: right;\n",
       "    }\n",
       "</style>\n",
       "<table border=\"1\" class=\"dataframe\">\n",
       "  <thead>\n",
       "    <tr style=\"text-align: right;\">\n",
       "      <th></th>\n",
       "      <th>id</th>\n",
       "      <th>listing_url</th>\n",
       "      <th>scrape_id</th>\n",
       "      <th>last_scraped</th>\n",
       "      <th>name</th>\n",
       "      <th>summary</th>\n",
       "      <th>space</th>\n",
       "      <th>description</th>\n",
       "      <th>experiences_offered</th>\n",
       "      <th>neighborhood_overview</th>\n",
       "      <th>...</th>\n",
       "      <th>instant_bookable</th>\n",
       "      <th>is_business_travel_ready</th>\n",
       "      <th>cancellation_policy</th>\n",
       "      <th>require_guest_profile_picture</th>\n",
       "      <th>require_guest_phone_verification</th>\n",
       "      <th>calculated_host_listings_count</th>\n",
       "      <th>calculated_host_listings_count_entire_homes</th>\n",
       "      <th>calculated_host_listings_count_private_rooms</th>\n",
       "      <th>calculated_host_listings_count_shared_rooms</th>\n",
       "      <th>reviews_per_month</th>\n",
       "    </tr>\n",
       "  </thead>\n",
       "  <tbody>\n",
       "    <tr>\n",
       "      <th>0</th>\n",
       "      <td>5065</td>\n",
       "      <td>https://www.airbnb.com/rooms/5065</td>\n",
       "      <td>20191204162636</td>\n",
       "      <td>2019-12-04</td>\n",
       "      <td>MAUKA BB</td>\n",
       "      <td>Perfect for your vacation, Staycation or just ...</td>\n",
       "      <td>Mauka B &amp; B is 400 square feet studio with a p...</td>\n",
       "      <td>Perfect for your vacation, Staycation or just ...</td>\n",
       "      <td>none</td>\n",
       "      <td>Neighbors here are friendly but are not really...</td>\n",
       "      <td>...</td>\n",
       "      <td>f</td>\n",
       "      <td>f</td>\n",
       "      <td>moderate</td>\n",
       "      <td>f</td>\n",
       "      <td>f</td>\n",
       "      <td>2</td>\n",
       "      <td>2</td>\n",
       "      <td>0</td>\n",
       "      <td>0</td>\n",
       "      <td>0.45</td>\n",
       "    </tr>\n",
       "  </tbody>\n",
       "</table>\n",
       "<p>1 rows × 106 columns</p>\n",
       "</div>"
      ],
      "text/plain": [
       "     id                        listing_url       scrape_id last_scraped  \\\n",
       "0  5065  https://www.airbnb.com/rooms/5065  20191204162636   2019-12-04   \n",
       "\n",
       "       name                                            summary  \\\n",
       "0  MAUKA BB  Perfect for your vacation, Staycation or just ...   \n",
       "\n",
       "                                               space  \\\n",
       "0  Mauka B & B is 400 square feet studio with a p...   \n",
       "\n",
       "                                         description experiences_offered  \\\n",
       "0  Perfect for your vacation, Staycation or just ...                none   \n",
       "\n",
       "                               neighborhood_overview  ... instant_bookable  \\\n",
       "0  Neighbors here are friendly but are not really...  ...                f   \n",
       "\n",
       "  is_business_travel_ready cancellation_policy require_guest_profile_picture  \\\n",
       "0                        f            moderate                             f   \n",
       "\n",
       "  require_guest_phone_verification  calculated_host_listings_count  \\\n",
       "0                                f                               2   \n",
       "\n",
       "   calculated_host_listings_count_entire_homes  \\\n",
       "0                                            2   \n",
       "\n",
       "  calculated_host_listings_count_private_rooms  \\\n",
       "0                                            0   \n",
       "\n",
       "   calculated_host_listings_count_shared_rooms  reviews_per_month  \n",
       "0                                            0               0.45  \n",
       "\n",
       "[1 rows x 106 columns]"
      ]
     },
     "execution_count": 5,
     "metadata": {},
     "output_type": "execute_result"
    }
   ],
   "source": [
    "# Open the zip file:\n",
    "csvpath = os.path.join(\"..\", \"source_data\", \"detail_listings.zip\")\n",
    "zf = zipfile.ZipFile(csvpath);\n",
    "\n",
    "# zf = zipfile.ZipFile('../source_data/detail_listings.zip') \n",
    "df = pd.read_csv(zf.open('detail_listings.csv'), low_memory=False)\n",
    "\n",
    "rows_in_df = len(df)\n",
    "print(f'Data set has {rows_in_df} rows')\n",
    "\n",
    "df.head(1)"
   ]
  },
  {
   "cell_type": "markdown",
   "metadata": {},
   "source": [
    "DATA PREPARATION 1:\n",
    "----------------------------------\n",
    "Organize the columns to make the analysis easy"
   ]
  },
  {
   "cell_type": "code",
   "execution_count": 6,
   "metadata": {},
   "outputs": [
    {
     "name": "stdout",
     "output_type": "stream",
     "text": [
      "\n",
      "----------------------\n",
      "Property-specific columns:\n",
      "----------------------\n",
      "experiences_offered\n",
      "street\n",
      "city\n",
      "state\n",
      "zipcode\n",
      "market\n",
      "country\n",
      "instant_bookable\n",
      "is_business_travel_ready\n",
      "\n",
      "----------------------\n",
      "All columns:\n",
      "----------------------\n",
      "id\n",
      "listing_url\n",
      "scrape_id\n",
      "last_scraped\n",
      "name\n",
      "summary\n",
      "space\n",
      "description\n",
      "experiences_offered\n",
      "neighborhood_overview\n",
      "notes\n",
      "transit\n",
      "access\n",
      "interaction\n",
      "house_rules\n",
      "thumbnail_url\n",
      "medium_url\n",
      "picture_url\n",
      "xl_picture_url\n",
      "host_id\n",
      "host_url\n",
      "host_name\n",
      "host_since\n",
      "host_location\n",
      "host_about\n",
      "host_response_time\n",
      "host_response_rate\n",
      "host_acceptance_rate\n",
      "host_is_superhost\n",
      "host_thumbnail_url\n",
      "host_picture_url\n",
      "host_neighbourhood\n",
      "host_listings_count\n",
      "host_total_listings_count\n",
      "host_verifications\n",
      "host_has_profile_pic\n",
      "host_identity_verified\n",
      "street\n",
      "neighbourhood\n",
      "neighbourhood_cleansed\n",
      "neighbourhood_group_cleansed\n",
      "city\n",
      "state\n",
      "zipcode\n",
      "market\n",
      "smart_location\n",
      "country_code\n",
      "country\n",
      "latitude\n",
      "longitude\n",
      "is_location_exact\n",
      "property_type\n",
      "room_type\n",
      "accommodates\n",
      "bathrooms\n",
      "bedrooms\n",
      "beds\n",
      "bed_type\n",
      "amenities\n",
      "square_feet\n",
      "price\n",
      "weekly_price\n",
      "monthly_price\n",
      "security_deposit\n",
      "cleaning_fee\n",
      "guests_included\n",
      "extra_people\n",
      "minimum_nights\n",
      "maximum_nights\n",
      "minimum_minimum_nights\n",
      "maximum_minimum_nights\n",
      "minimum_maximum_nights\n",
      "maximum_maximum_nights\n",
      "minimum_nights_avg_ntm\n",
      "maximum_nights_avg_ntm\n",
      "calendar_updated\n",
      "has_availability\n",
      "availability_30\n",
      "availability_60\n",
      "availability_90\n",
      "availability_365\n",
      "calendar_last_scraped\n",
      "number_of_reviews\n",
      "number_of_reviews_ltm\n",
      "first_review\n",
      "last_review\n",
      "review_scores_rating\n",
      "review_scores_accuracy\n",
      "review_scores_cleanliness\n",
      "review_scores_checkin\n",
      "review_scores_communication\n",
      "review_scores_location\n",
      "review_scores_value\n",
      "requires_license\n",
      "license\n",
      "jurisdiction_names\n",
      "instant_bookable\n",
      "is_business_travel_ready\n",
      "cancellation_policy\n",
      "require_guest_profile_picture\n",
      "require_guest_phone_verification\n",
      "calculated_host_listings_count\n",
      "calculated_host_listings_count_entire_homes\n",
      "calculated_host_listings_count_private_rooms\n",
      "calculated_host_listings_count_shared_rooms\n",
      "reviews_per_month\n"
     ]
    }
   ],
   "source": [
    "# Group the columns and show the list of the columns\n",
    "\n",
    "print('')\n",
    "print('----------------------')\n",
    "print('Property-specific columns:')\n",
    "print('----------------------')\n",
    "\n",
    "# Create a wildcard to search the terms\n",
    "cols = [\"experiences_offered\", \"street\", \"city\", \"state\", \"zipcode\", \"market\", \"country\", \"property\"\n",
    "    , \"location\", \"accomodate\", \"room\", \"guest\", \"is_business_travel_ready\", \"instant_bookable\", \"cancel\"]\n",
    "\n",
    "# Lopps the columns\n",
    "for col in df.columns: \n",
    "    if col in cols:\n",
    "        print(col) \n",
    "        \n",
    "print('')\n",
    "print('----------------------')\n",
    "print('All columns:')\n",
    "print('----------------------')\n",
    "for col in df.columns: \n",
    "    print(col)"
   ]
  },
  {
   "cell_type": "markdown",
   "metadata": {},
   "source": [
    "DATA PREPARATION 2:\n",
    "----------------------------------\n",
    "Created separate data frame to allow us to “group” columns (Property-related, Neighborhood-related, etc)"
   ]
  },
  {
   "cell_type": "code",
   "execution_count": 7,
   "metadata": {},
   "outputs": [
    {
     "name": "stdout",
     "output_type": "stream",
     "text": [
      "Group                 Subgroup\n",
      "                                  17\n",
      "Booking-related                    8\n",
      "Host-related                      17\n",
      "Neighborhood-related               5\n",
      "Property-related                  20\n",
      "                      Interior     4\n",
      "                      Location    13\n",
      "                      Pricing      9\n",
      "Requirements-related               2\n",
      "Review-related                    11\n",
      "Name: Column, dtype: int64\n",
      "\n",
      "Columns without a group:\n"
     ]
    },
    {
     "data": {
      "text/html": [
       "<div>\n",
       "<style scoped>\n",
       "    .dataframe tbody tr th:only-of-type {\n",
       "        vertical-align: middle;\n",
       "    }\n",
       "\n",
       "    .dataframe tbody tr th {\n",
       "        vertical-align: top;\n",
       "    }\n",
       "\n",
       "    .dataframe thead th {\n",
       "        text-align: right;\n",
       "    }\n",
       "</style>\n",
       "<table border=\"1\" class=\"dataframe\">\n",
       "  <thead>\n",
       "    <tr style=\"text-align: right;\">\n",
       "      <th></th>\n",
       "      <th>ColumNumber</th>\n",
       "      <th>Column</th>\n",
       "      <th>Group</th>\n",
       "      <th>Subgroup</th>\n",
       "      <th>Notes</th>\n",
       "    </tr>\n",
       "  </thead>\n",
       "  <tbody>\n",
       "    <tr>\n",
       "      <th>0</th>\n",
       "      <td>0</td>\n",
       "      <td>id</td>\n",
       "      <td></td>\n",
       "      <td></td>\n",
       "      <td>Primary Key</td>\n",
       "    </tr>\n",
       "    <tr>\n",
       "      <th>1</th>\n",
       "      <td>1</td>\n",
       "      <td>listing_url</td>\n",
       "      <td></td>\n",
       "      <td></td>\n",
       "      <td></td>\n",
       "    </tr>\n",
       "    <tr>\n",
       "      <th>2</th>\n",
       "      <td>2</td>\n",
       "      <td>scrape_id</td>\n",
       "      <td></td>\n",
       "      <td></td>\n",
       "      <td></td>\n",
       "    </tr>\n",
       "    <tr>\n",
       "      <th>3</th>\n",
       "      <td>3</td>\n",
       "      <td>last_scraped</td>\n",
       "      <td></td>\n",
       "      <td></td>\n",
       "      <td></td>\n",
       "    </tr>\n",
       "    <tr>\n",
       "      <th>15</th>\n",
       "      <td>15</td>\n",
       "      <td>thumbnail_url</td>\n",
       "      <td></td>\n",
       "      <td></td>\n",
       "      <td></td>\n",
       "    </tr>\n",
       "    <tr>\n",
       "      <th>16</th>\n",
       "      <td>16</td>\n",
       "      <td>medium_url</td>\n",
       "      <td></td>\n",
       "      <td></td>\n",
       "      <td></td>\n",
       "    </tr>\n",
       "    <tr>\n",
       "      <th>17</th>\n",
       "      <td>17</td>\n",
       "      <td>picture_url</td>\n",
       "      <td></td>\n",
       "      <td></td>\n",
       "      <td></td>\n",
       "    </tr>\n",
       "    <tr>\n",
       "      <th>18</th>\n",
       "      <td>18</td>\n",
       "      <td>xl_picture_url</td>\n",
       "      <td></td>\n",
       "      <td></td>\n",
       "      <td></td>\n",
       "    </tr>\n",
       "    <tr>\n",
       "      <th>57</th>\n",
       "      <td>57</td>\n",
       "      <td>bed_type</td>\n",
       "      <td></td>\n",
       "      <td></td>\n",
       "      <td></td>\n",
       "    </tr>\n",
       "    <tr>\n",
       "      <th>75</th>\n",
       "      <td>75</td>\n",
       "      <td>calendar_updated</td>\n",
       "      <td></td>\n",
       "      <td></td>\n",
       "      <td></td>\n",
       "    </tr>\n",
       "    <tr>\n",
       "      <th>76</th>\n",
       "      <td>76</td>\n",
       "      <td>has_availability</td>\n",
       "      <td></td>\n",
       "      <td></td>\n",
       "      <td></td>\n",
       "    </tr>\n",
       "    <tr>\n",
       "      <th>77</th>\n",
       "      <td>77</td>\n",
       "      <td>availability_30</td>\n",
       "      <td></td>\n",
       "      <td></td>\n",
       "      <td></td>\n",
       "    </tr>\n",
       "    <tr>\n",
       "      <th>78</th>\n",
       "      <td>78</td>\n",
       "      <td>availability_60</td>\n",
       "      <td></td>\n",
       "      <td></td>\n",
       "      <td></td>\n",
       "    </tr>\n",
       "    <tr>\n",
       "      <th>79</th>\n",
       "      <td>79</td>\n",
       "      <td>availability_90</td>\n",
       "      <td></td>\n",
       "      <td></td>\n",
       "      <td></td>\n",
       "    </tr>\n",
       "    <tr>\n",
       "      <th>80</th>\n",
       "      <td>80</td>\n",
       "      <td>availability_365</td>\n",
       "      <td></td>\n",
       "      <td></td>\n",
       "      <td></td>\n",
       "    </tr>\n",
       "    <tr>\n",
       "      <th>81</th>\n",
       "      <td>81</td>\n",
       "      <td>calendar_last_scraped</td>\n",
       "      <td></td>\n",
       "      <td></td>\n",
       "      <td></td>\n",
       "    </tr>\n",
       "    <tr>\n",
       "      <th>94</th>\n",
       "      <td>94</td>\n",
       "      <td>license</td>\n",
       "      <td></td>\n",
       "      <td></td>\n",
       "      <td></td>\n",
       "    </tr>\n",
       "  </tbody>\n",
       "</table>\n",
       "</div>"
      ],
      "text/plain": [
       "    ColumNumber                 Column Group Subgroup        Notes\n",
       "0             0                     id                 Primary Key\n",
       "1             1            listing_url                            \n",
       "2             2              scrape_id                            \n",
       "3             3           last_scraped                            \n",
       "15           15          thumbnail_url                            \n",
       "16           16             medium_url                            \n",
       "17           17            picture_url                            \n",
       "18           18         xl_picture_url                            \n",
       "57           57               bed_type                            \n",
       "75           75       calendar_updated                            \n",
       "76           76       has_availability                            \n",
       "77           77        availability_30                            \n",
       "78           78        availability_60                            \n",
       "79           79        availability_90                            \n",
       "80           80       availability_365                            \n",
       "81           81  calendar_last_scraped                            \n",
       "94           94                license                            "
      ]
     },
     "execution_count": 7,
     "metadata": {},
     "output_type": "execute_result"
    }
   ],
   "source": [
    "# Create a dataframe with one (1) row for each column in the source data:\n",
    "data_dict = pd.DataFrame(columns = [\n",
    "    \"ColumNumber\"\n",
    "    , \"Column\"\n",
    "    , \"Group\"\n",
    "    , \"Subgroup\"\n",
    "    , \"Notes\"\n",
    "])\n",
    "\n",
    "# Loop through the columns in the data frame\n",
    "for column in df:\n",
    "    data_dict = data_dict.append({\n",
    "            \"Column\": column\n",
    "            , \"Group\": \"\"\n",
    "            , \"Subgroup\": \"\"\n",
    "            , \"Notes\": \"\"\n",
    "        }\n",
    "        , ignore_index=True\n",
    "    )\n",
    "\n",
    "# Make the index the column number\n",
    "data_dict['ColumNumber'] = data_dict.index\n",
    "        \n",
    "# Add context for each column \n",
    "for index, row in data_dict.iterrows():\n",
    "    val = str(row[\"Column\"])\n",
    "    \n",
    "    if val == \"id\":\n",
    "        data_dict.loc[index, \"Notes\"] = \"Primary Key\"\n",
    "    # Val.startswith(\"host_\")  \n",
    "    if val.find(\"host\") > -1: \n",
    "        data_dict.loc[index, \"Group\"] = \"Host-related\"\n",
    "    \n",
    "    if val.find(\"review\") > -1:\n",
    "        data_dict.loc[index, \"Group\"] = \"Review-related\"\n",
    "        \n",
    "    if (val.find(\"rule\") > -1) | (val.find(\"require\") > -1):\n",
    "        data_dict.loc[index, \"Group\"] = \"Requirements-related\"\n",
    "        \n",
    "    if (val.find(\"neighbo\") > -1):\n",
    "        data_dict.loc[index, \"Group\"] = \"Neighborhood-related\"\n",
    "        \n",
    "    if (val.find(\"nights\") > -1):\n",
    "        data_dict.loc[index, \"Group\"] = \"Booking-related\"\n",
    "        \n",
    "    # Property specific:\n",
    "    cols = [\n",
    "        \"property\", \"room\", \"guest\", \"is_business_travel_ready\", \"instant_bookable\", \"cancel\",\n",
    "        \"space\", \"name\", \"summary\", \"description\", \"notes\", \"transit\", \"access\", \"interaction\",\n",
    "        \"property_type\", \"room_type\", \"amenities\"\n",
    "    ]\n",
    "    if any(word in val for word in cols):\n",
    "        data_dict.loc[index, \"Group\"] = \"Property-related\"\n",
    "        \n",
    "    # Property - \"Location\" specific:\n",
    "    cols = [\n",
    "        \"location\", \"street\", \"city\", \"state\", \"zipcode\", \"market\", \"country\"\n",
    "        , \"latitude\", \"longitude\", \"is_location_exact\"\n",
    "    ]\n",
    "    if any(word in val for word in cols):\n",
    "        data_dict.loc[index, \"Group\"] = \"Property-related\"\n",
    "        data_dict.loc[index, \"Subgroup\"] = \"Location\"\n",
    "        \n",
    "    # Property - \"Interior\" specific:\n",
    "    cols = [\n",
    "        \"bathrooms\", \"bedrooms\", \"beds\", \"square_feet\"\n",
    "    ]\n",
    "    if any(word in val for word in cols):\n",
    "        data_dict.loc[index, \"Group\"] = \"Property-related\"\n",
    "        data_dict.loc[index, \"Subgroup\"] = \"Interior\"\n",
    "        \n",
    "    # Property - \"Pricing\" specific:\n",
    "    # Variables related to price, or that we might associate with price\n",
    "    cols = [\n",
    "        \"price\", \"weekly_price\", \"monthly_price\"        \n",
    "        , \"security_deposit\", \"cleaning_fee\"\n",
    "        , \"accomodates\", \"guests_included\", \"extra_people\"\n",
    "        , \"experiences_offered\"\n",
    "    ]\n",
    "    if any(word in val for word in cols):\n",
    "        data_dict.loc[index, \"Group\"] = \"Property-related\"\n",
    "        data_dict.loc[index, \"Subgroup\"] = \"Pricing\"\n",
    "        \n",
    "    # Accomodate a group and subgroup of properties:\n",
    "    if val == \"accommodates\":\n",
    "        data_dict.loc[index, \"Group\"] = \"Property-related\"\n",
    "        data_dict.loc[index, \"Subgroup\"] = \"Pricing\"\n",
    "\n",
    "print(data_dict.groupby([\"Group\", \"Subgroup\"])[\"Column\"].count())\n",
    "print('')\n",
    "print('Columns without a group:')\n",
    "data_dict[data_dict[\"Group\"] == \"\"]"
   ]
  },
  {
   "cell_type": "markdown",
   "metadata": {},
   "source": [
    "DATA PREPARATION 3:\n",
    "----------------------------------\n",
    "- Create a group by neighbourhood and number of reviews"
   ]
  },
  {
   "cell_type": "code",
   "execution_count": 8,
   "metadata": {},
   "outputs": [
    {
     "data": {
      "text/html": [
       "<div>\n",
       "<style scoped>\n",
       "    .dataframe tbody tr th:only-of-type {\n",
       "        vertical-align: middle;\n",
       "    }\n",
       "\n",
       "    .dataframe tbody tr th {\n",
       "        vertical-align: top;\n",
       "    }\n",
       "\n",
       "    .dataframe thead tr th {\n",
       "        text-align: left;\n",
       "    }\n",
       "\n",
       "    .dataframe thead tr:last-of-type th {\n",
       "        text-align: right;\n",
       "    }\n",
       "</style>\n",
       "<table border=\"1\" class=\"dataframe\">\n",
       "  <thead>\n",
       "    <tr>\n",
       "      <th></th>\n",
       "      <th colspan=\"5\" halign=\"left\">number_of_reviews</th>\n",
       "    </tr>\n",
       "    <tr>\n",
       "      <th></th>\n",
       "      <th>count_nonzero</th>\n",
       "      <th>mean</th>\n",
       "      <th>median</th>\n",
       "      <th>var</th>\n",
       "      <th>std</th>\n",
       "    </tr>\n",
       "    <tr>\n",
       "      <th>neighbourhood</th>\n",
       "      <th></th>\n",
       "      <th></th>\n",
       "      <th></th>\n",
       "      <th></th>\n",
       "      <th></th>\n",
       "    </tr>\n",
       "  </thead>\n",
       "  <tbody>\n",
       "    <tr>\n",
       "      <th>Aiea</th>\n",
       "      <td>14</td>\n",
       "      <td>33.294118</td>\n",
       "      <td>7.0</td>\n",
       "      <td>2586.220588</td>\n",
       "      <td>50.854897</td>\n",
       "    </tr>\n",
       "    <tr>\n",
       "      <th>Airport</th>\n",
       "      <td>3</td>\n",
       "      <td>4.000000</td>\n",
       "      <td>4.0</td>\n",
       "      <td>9.000000</td>\n",
       "      <td>3.000000</td>\n",
       "    </tr>\n",
       "    <tr>\n",
       "      <th>Ala Moana/Kakaako</th>\n",
       "      <td>28</td>\n",
       "      <td>13.829787</td>\n",
       "      <td>1.0</td>\n",
       "      <td>801.013876</td>\n",
       "      <td>28.302189</td>\n",
       "    </tr>\n",
       "    <tr>\n",
       "      <th>Aliamanu/Salt Lake/Foster Village</th>\n",
       "      <td>8</td>\n",
       "      <td>74.875000</td>\n",
       "      <td>9.5</td>\n",
       "      <td>17739.267857</td>\n",
       "      <td>133.188843</td>\n",
       "    </tr>\n",
       "    <tr>\n",
       "      <th>Central Oahu</th>\n",
       "      <td>43</td>\n",
       "      <td>27.391304</td>\n",
       "      <td>14.5</td>\n",
       "      <td>1186.643478</td>\n",
       "      <td>34.447692</td>\n",
       "    </tr>\n",
       "  </tbody>\n",
       "</table>\n",
       "</div>"
      ],
      "text/plain": [
       "                                  number_of_reviews                    \\\n",
       "                                      count_nonzero       mean median   \n",
       "neighbourhood                                                           \n",
       "Aiea                                             14  33.294118    7.0   \n",
       "Airport                                           3   4.000000    4.0   \n",
       "Ala Moana/Kakaako                                28  13.829787    1.0   \n",
       "Aliamanu/Salt Lake/Foster Village                 8  74.875000    9.5   \n",
       "Central Oahu                                     43  27.391304   14.5   \n",
       "\n",
       "                                                             \n",
       "                                            var         std  \n",
       "neighbourhood                                                \n",
       "Aiea                                2586.220588   50.854897  \n",
       "Airport                                9.000000    3.000000  \n",
       "Ala Moana/Kakaako                    801.013876   28.302189  \n",
       "Aliamanu/Salt Lake/Foster Village  17739.267857  133.188843  \n",
       "Central Oahu                        1186.643478   34.447692  "
      ]
     },
     "execution_count": 8,
     "metadata": {},
     "output_type": "execute_result"
    }
   ],
   "source": [
    "# data_dict[data_dict[\"Group\"] == \"Host-related\"]\n",
    "host_group = df.groupby(\"neighbourhood\").agg({\n",
    "    \"number_of_reviews\": [\n",
    "        np.count_nonzero,\n",
    "        np.mean, \n",
    "        np.median, \n",
    "        np.var, \n",
    "        np.std\n",
    "    ]\n",
    "})\n",
    "\n",
    "host_group.rename(columns={'count_nonzero':'Reviews'})\n",
    "host_group.head()"
   ]
  },
  {
   "cell_type": "markdown",
   "metadata": {},
   "source": [
    "DATA PREPARATION 4:\n",
    "----------------------------------\n",
    "- Create bin to separate by the number of reviews"
   ]
  },
  {
   "cell_type": "code",
   "execution_count": 9,
   "metadata": {},
   "outputs": [
    {
     "data": {
      "text/plain": [
       "11-20      3790\n",
       "1-10       2526\n",
       "21-50      2368\n",
       "100-200    1235\n",
       "201-250     250\n",
       "251-300      32\n",
       "301-350      23\n",
       "351-400      10\n",
       "401-550       6\n",
       "551-600       3\n",
       "451-500       3\n",
       "501-550       1\n",
       "Name: Bin_NumReviews, dtype: int64"
      ]
     },
     "execution_count": 9,
     "metadata": {},
     "output_type": "execute_result"
    }
   ],
   "source": [
    "# bin on reviews_per_month\n",
    "bins_num_reviews = [10, 20, 50, 100, 200, 300, 350, 400, 450, 500, 550, 600, 100000]\n",
    "\n",
    "# labels - always one less than the range\n",
    "group_names_num_reviews = [\n",
    "    \"1-10\"\n",
    "    , \"11-20\"\n",
    "    , \"21-50\"\n",
    "    , \"100-200\"\n",
    "    , \"201-250\"\n",
    "    , \"251-300\"\n",
    "    , \"301-350\"\n",
    "    , \"351-400\"\n",
    "    , \"401-550\"\n",
    "    , \"451-500\"\n",
    "    , \"501-550\"\n",
    "    , \"551-600\"\n",
    "]\n",
    "\n",
    "df[\"Bin_NumReviews\"] = pd.cut(\n",
    "    df[\"number_of_reviews\"], \n",
    "    bins = bins_num_reviews, \n",
    "    labels = group_names_num_reviews\n",
    ")\n",
    "\n",
    "df[\"Bin_NumReviews\"].value_counts()"
   ]
  },
  {
   "cell_type": "code",
   "execution_count": 10,
   "metadata": {},
   "outputs": [
    {
     "name": "stdout",
     "output_type": "stream",
     "text": [
      "Sum: 623494\n",
      "Count: 23745\n"
     ]
    },
    {
     "data": {
      "text/plain": [
       "Bin_NumReviews\n",
       "1-10        37991\n",
       "11-20      126389\n",
       "21-50      169320\n",
       "100-200    169224\n",
       "201-250     59598\n",
       "251-300     10221\n",
       "301-350      8452\n",
       "351-400      4217\n",
       "401-550      2864\n",
       "451-500      1561\n",
       "501-550       569\n",
       "551-600      1983\n",
       "Name: number_of_reviews, dtype: int64"
      ]
     },
     "execution_count": 10,
     "metadata": {},
     "output_type": "execute_result"
    }
   ],
   "source": [
    "# print the number of reviews\n",
    "print(f'Sum: {df[\"number_of_reviews\"].sum()}')\n",
    "print(f'Count: {df[\"number_of_reviews\"].count()}')\n",
    "\n",
    "df.groupby(\"Bin_NumReviews\")[\"number_of_reviews\"].sum()"
   ]
  },
  {
   "cell_type": "code",
   "execution_count": 11,
   "metadata": {},
   "outputs": [
    {
     "data": {
      "text/html": [
       "<div>\n",
       "<style scoped>\n",
       "    .dataframe tbody tr th:only-of-type {\n",
       "        vertical-align: middle;\n",
       "    }\n",
       "\n",
       "    .dataframe tbody tr th {\n",
       "        vertical-align: top;\n",
       "    }\n",
       "\n",
       "    .dataframe thead tr th {\n",
       "        text-align: left;\n",
       "    }\n",
       "\n",
       "    .dataframe thead tr:last-of-type th {\n",
       "        text-align: right;\n",
       "    }\n",
       "</style>\n",
       "<table border=\"1\" class=\"dataframe\">\n",
       "  <thead>\n",
       "    <tr>\n",
       "      <th></th>\n",
       "      <th colspan=\"5\" halign=\"left\">number_of_reviews</th>\n",
       "    </tr>\n",
       "    <tr>\n",
       "      <th></th>\n",
       "      <th>count_nonzero</th>\n",
       "      <th>mean</th>\n",
       "      <th>median</th>\n",
       "      <th>var</th>\n",
       "      <th>std</th>\n",
       "    </tr>\n",
       "    <tr>\n",
       "      <th>Bin_NumReviews</th>\n",
       "      <th></th>\n",
       "      <th></th>\n",
       "      <th></th>\n",
       "      <th></th>\n",
       "      <th></th>\n",
       "    </tr>\n",
       "  </thead>\n",
       "  <tbody>\n",
       "    <tr>\n",
       "      <th>1-10</th>\n",
       "      <td>2526</td>\n",
       "      <td>15.039984</td>\n",
       "      <td>15.0</td>\n",
       "      <td>8.161173</td>\n",
       "      <td>2.856777</td>\n",
       "    </tr>\n",
       "    <tr>\n",
       "      <th>11-20</th>\n",
       "      <td>3790</td>\n",
       "      <td>33.348021</td>\n",
       "      <td>32.0</td>\n",
       "      <td>74.548947</td>\n",
       "      <td>8.634173</td>\n",
       "    </tr>\n",
       "    <tr>\n",
       "      <th>21-50</th>\n",
       "      <td>2368</td>\n",
       "      <td>71.503378</td>\n",
       "      <td>70.0</td>\n",
       "      <td>197.305439</td>\n",
       "      <td>14.046545</td>\n",
       "    </tr>\n",
       "    <tr>\n",
       "      <th>100-200</th>\n",
       "      <td>1235</td>\n",
       "      <td>137.023482</td>\n",
       "      <td>131.0</td>\n",
       "      <td>741.095883</td>\n",
       "      <td>27.223076</td>\n",
       "    </tr>\n",
       "    <tr>\n",
       "      <th>201-250</th>\n",
       "      <td>250</td>\n",
       "      <td>238.392000</td>\n",
       "      <td>232.0</td>\n",
       "      <td>802.456161</td>\n",
       "      <td>28.327657</td>\n",
       "    </tr>\n",
       "    <tr>\n",
       "      <th>251-300</th>\n",
       "      <td>32</td>\n",
       "      <td>319.406250</td>\n",
       "      <td>318.0</td>\n",
       "      <td>176.958669</td>\n",
       "      <td>13.302581</td>\n",
       "    </tr>\n",
       "    <tr>\n",
       "      <th>301-350</th>\n",
       "      <td>23</td>\n",
       "      <td>367.478261</td>\n",
       "      <td>366.0</td>\n",
       "      <td>157.988142</td>\n",
       "      <td>12.569333</td>\n",
       "    </tr>\n",
       "    <tr>\n",
       "      <th>351-400</th>\n",
       "      <td>10</td>\n",
       "      <td>421.700000</td>\n",
       "      <td>421.5</td>\n",
       "      <td>252.900000</td>\n",
       "      <td>15.902830</td>\n",
       "    </tr>\n",
       "    <tr>\n",
       "      <th>401-550</th>\n",
       "      <td>6</td>\n",
       "      <td>477.333333</td>\n",
       "      <td>485.5</td>\n",
       "      <td>246.666667</td>\n",
       "      <td>15.705625</td>\n",
       "    </tr>\n",
       "    <tr>\n",
       "      <th>451-500</th>\n",
       "      <td>3</td>\n",
       "      <td>520.333333</td>\n",
       "      <td>518.0</td>\n",
       "      <td>24.333333</td>\n",
       "      <td>4.932883</td>\n",
       "    </tr>\n",
       "    <tr>\n",
       "      <th>501-550</th>\n",
       "      <td>1</td>\n",
       "      <td>569.000000</td>\n",
       "      <td>569.0</td>\n",
       "      <td>NaN</td>\n",
       "      <td>NaN</td>\n",
       "    </tr>\n",
       "    <tr>\n",
       "      <th>551-600</th>\n",
       "      <td>3</td>\n",
       "      <td>661.000000</td>\n",
       "      <td>669.0</td>\n",
       "      <td>577.000000</td>\n",
       "      <td>24.020824</td>\n",
       "    </tr>\n",
       "  </tbody>\n",
       "</table>\n",
       "</div>"
      ],
      "text/plain": [
       "               number_of_reviews                                          \n",
       "                   count_nonzero        mean median         var        std\n",
       "Bin_NumReviews                                                            \n",
       "1-10                        2526   15.039984   15.0    8.161173   2.856777\n",
       "11-20                       3790   33.348021   32.0   74.548947   8.634173\n",
       "21-50                       2368   71.503378   70.0  197.305439  14.046545\n",
       "100-200                     1235  137.023482  131.0  741.095883  27.223076\n",
       "201-250                      250  238.392000  232.0  802.456161  28.327657\n",
       "251-300                       32  319.406250  318.0  176.958669  13.302581\n",
       "301-350                       23  367.478261  366.0  157.988142  12.569333\n",
       "351-400                       10  421.700000  421.5  252.900000  15.902830\n",
       "401-550                        6  477.333333  485.5  246.666667  15.705625\n",
       "451-500                        3  520.333333  518.0   24.333333   4.932883\n",
       "501-550                        1  569.000000  569.0         NaN        NaN\n",
       "551-600                        3  661.000000  669.0  577.000000  24.020824"
      ]
     },
     "execution_count": 11,
     "metadata": {},
     "output_type": "execute_result"
    }
   ],
   "source": [
    "# Aggregate the group by numebr of reviews\n",
    "df.groupby(\"Bin_NumReviews\").agg({\n",
    "    \"number_of_reviews\": [\n",
    "        np.count_nonzero,\n",
    "        np.mean, \n",
    "        np.median, \n",
    "        np.var, \n",
    "        np.std\n",
    "    ]\n",
    "})"
   ]
  },
  {
   "cell_type": "markdown",
   "metadata": {},
   "source": [
    "We analyze some hypothesis during the data preparation.\n",
    "\n",
    "Hypothesis candidates\n",
    "\n",
    "Neighborhood\n",
    "- Is rating related to price within a neighborhood? \n",
    "- The highest price properties in a neighboorhood will have lower ratings than the lowest price properties?\n",
    "- Best neighborhoods by rating\n",
    "- Best neighborhoods by price\n",
    "- Listing types by neighborhood\n",
    "- Listing types by price\n",
    "- Listing types by rating\n",
    "\n",
    "By island: \n",
    "- Is one island more expensive than the others?"
   ]
  },
  {
   "cell_type": "markdown",
   "metadata": {},
   "source": [
    "DATA VALIDATION 1:\n",
    "------------------------------\n",
    "Create a figures to visualize the data behauvior "
   ]
  },
  {
   "cell_type": "code",
   "execution_count": 12,
   "metadata": {},
   "outputs": [
    {
     "data": {
      "text/plain": [
       "<matplotlib.axes._subplots.AxesSubplot at 0x262369eac50>"
      ]
     },
     "execution_count": 12,
     "metadata": {},
     "output_type": "execute_result"
    },
    {
     "data": {
      "image/png": "[encoded data removed]",
      "text/plain": [
       "<Figure size 432x288 with 1 Axes>"
      ]
     },
     "metadata": {
      "needs_background": "light"
     },
     "output_type": "display_data"
    }
   ],
   "source": [
    "# Use seaborn library to create a boxplot\n",
    "# sns.boxplot(x=\"day\", y=\"total_bill\", hue=\"smoker\", data=df, palette=\"Set1\")\n",
    "sns.boxplot(\n",
    "    x = \"neighbourhood_group_cleansed\",\n",
    "    y = \"number_of_reviews\",\n",
    "    data = df,\n",
    "    palette = \"Set1\"\n",
    ")"
   ]
  },
  {
   "cell_type": "code",
   "execution_count": 13,
   "metadata": {},
   "outputs": [
    {
     "ename": "ValueError",
     "evalue": "Neither the `x` nor `y` variable appears to be numeric.",
     "output_type": "error",
     "traceback": [
      "\u001b[1;31m---------------------------------------------------------------------------\u001b[0m",
      "\u001b[1;31mValueError\u001b[0m                                Traceback (most recent call last)",
      "\u001b[1;32m<ipython-input-13-66a5194cef75>\u001b[0m in \u001b[0;36m<module>\u001b[1;34m\u001b[0m\n\u001b[0;32m      5\u001b[0m     \u001b[0my\u001b[0m \u001b[1;33m=\u001b[0m \u001b[1;34m\"price\"\u001b[0m\u001b[1;33m,\u001b[0m\u001b[1;33m\u001b[0m\u001b[1;33m\u001b[0m\u001b[0m\n\u001b[0;32m      6\u001b[0m     \u001b[0mdata\u001b[0m \u001b[1;33m=\u001b[0m \u001b[0mdf\u001b[0m\u001b[1;33m,\u001b[0m\u001b[1;33m\u001b[0m\u001b[1;33m\u001b[0m\u001b[0m\n\u001b[1;32m----> 7\u001b[1;33m     \u001b[0mpalette\u001b[0m \u001b[1;33m=\u001b[0m \u001b[1;34m\"Set1\"\u001b[0m\u001b[1;33m\u001b[0m\u001b[1;33m\u001b[0m\u001b[0m\n\u001b[0m\u001b[0;32m      8\u001b[0m )\n",
      "\u001b[1;32mD:\\Anaconda3\\lib\\site-packages\\seaborn\\categorical.py\u001b[0m in \u001b[0;36mboxplot\u001b[1;34m(x, y, hue, data, order, hue_order, orient, color, palette, saturation, width, dodge, fliersize, linewidth, whis, notch, ax, **kwargs)\u001b[0m\n\u001b[0;32m   2229\u001b[0m     plotter = _BoxPlotter(x, y, hue, data, order, hue_order,\n\u001b[0;32m   2230\u001b[0m                           \u001b[0morient\u001b[0m\u001b[1;33m,\u001b[0m \u001b[0mcolor\u001b[0m\u001b[1;33m,\u001b[0m \u001b[0mpalette\u001b[0m\u001b[1;33m,\u001b[0m \u001b[0msaturation\u001b[0m\u001b[1;33m,\u001b[0m\u001b[1;33m\u001b[0m\u001b[1;33m\u001b[0m\u001b[0m\n\u001b[1;32m-> 2231\u001b[1;33m                           width, dodge, fliersize, linewidth)\n\u001b[0m\u001b[0;32m   2232\u001b[0m \u001b[1;33m\u001b[0m\u001b[0m\n\u001b[0;32m   2233\u001b[0m     \u001b[1;32mif\u001b[0m \u001b[0max\u001b[0m \u001b[1;32mis\u001b[0m \u001b[1;32mNone\u001b[0m\u001b[1;33m:\u001b[0m\u001b[1;33m\u001b[0m\u001b[1;33m\u001b[0m\u001b[0m\n",
      "\u001b[1;32mD:\\Anaconda3\\lib\\site-packages\\seaborn\\categorical.py\u001b[0m in \u001b[0;36m__init__\u001b[1;34m(self, x, y, hue, data, order, hue_order, orient, color, palette, saturation, width, dodge, fliersize, linewidth)\u001b[0m\n\u001b[0;32m    444\u001b[0m                  width, dodge, fliersize, linewidth):\n\u001b[0;32m    445\u001b[0m \u001b[1;33m\u001b[0m\u001b[0m\n\u001b[1;32m--> 446\u001b[1;33m         \u001b[0mself\u001b[0m\u001b[1;33m.\u001b[0m\u001b[0mestablish_variables\u001b[0m\u001b[1;33m(\u001b[0m\u001b[0mx\u001b[0m\u001b[1;33m,\u001b[0m \u001b[0my\u001b[0m\u001b[1;33m,\u001b[0m \u001b[0mhue\u001b[0m\u001b[1;33m,\u001b[0m \u001b[0mdata\u001b[0m\u001b[1;33m,\u001b[0m \u001b[0morient\u001b[0m\u001b[1;33m,\u001b[0m \u001b[0morder\u001b[0m\u001b[1;33m,\u001b[0m \u001b[0mhue_order\u001b[0m\u001b[1;33m)\u001b[0m\u001b[1;33m\u001b[0m\u001b[1;33m\u001b[0m\u001b[0m\n\u001b[0m\u001b[0;32m    447\u001b[0m         \u001b[0mself\u001b[0m\u001b[1;33m.\u001b[0m\u001b[0mestablish_colors\u001b[0m\u001b[1;33m(\u001b[0m\u001b[0mcolor\u001b[0m\u001b[1;33m,\u001b[0m \u001b[0mpalette\u001b[0m\u001b[1;33m,\u001b[0m \u001b[0msaturation\u001b[0m\u001b[1;33m)\u001b[0m\u001b[1;33m\u001b[0m\u001b[1;33m\u001b[0m\u001b[0m\n\u001b[0;32m    448\u001b[0m \u001b[1;33m\u001b[0m\u001b[0m\n",
      "\u001b[1;32mD:\\Anaconda3\\lib\\site-packages\\seaborn\\categorical.py\u001b[0m in \u001b[0;36mestablish_variables\u001b[1;34m(self, x, y, hue, data, orient, order, hue_order, units)\u001b[0m\n\u001b[0;32m    156\u001b[0m \u001b[1;33m\u001b[0m\u001b[0m\n\u001b[0;32m    157\u001b[0m             \u001b[1;31m# Figure out the plotting orientation\u001b[0m\u001b[1;33m\u001b[0m\u001b[1;33m\u001b[0m\u001b[1;33m\u001b[0m\u001b[0m\n\u001b[1;32m--> 158\u001b[1;33m             \u001b[0morient\u001b[0m \u001b[1;33m=\u001b[0m \u001b[0mself\u001b[0m\u001b[1;33m.\u001b[0m\u001b[0minfer_orient\u001b[0m\u001b[1;33m(\u001b[0m\u001b[0mx\u001b[0m\u001b[1;33m,\u001b[0m \u001b[0my\u001b[0m\u001b[1;33m,\u001b[0m \u001b[0morient\u001b[0m\u001b[1;33m)\u001b[0m\u001b[1;33m\u001b[0m\u001b[1;33m\u001b[0m\u001b[0m\n\u001b[0m\u001b[0;32m    159\u001b[0m \u001b[1;33m\u001b[0m\u001b[0m\n\u001b[0;32m    160\u001b[0m             \u001b[1;31m# Option 2a:\u001b[0m\u001b[1;33m\u001b[0m\u001b[1;33m\u001b[0m\u001b[1;33m\u001b[0m\u001b[0m\n",
      "\u001b[1;32mD:\\Anaconda3\\lib\\site-packages\\seaborn\\categorical.py\u001b[0m in \u001b[0;36minfer_orient\u001b[1;34m(self, x, y, orient)\u001b[0m\n\u001b[0;32m    359\u001b[0m         \u001b[1;32melif\u001b[0m \u001b[0mis_not_numeric\u001b[0m\u001b[1;33m(\u001b[0m\u001b[0my\u001b[0m\u001b[1;33m)\u001b[0m\u001b[1;33m:\u001b[0m\u001b[1;33m\u001b[0m\u001b[1;33m\u001b[0m\u001b[0m\n\u001b[0;32m    360\u001b[0m             \u001b[1;32mif\u001b[0m \u001b[0mis_not_numeric\u001b[0m\u001b[1;33m(\u001b[0m\u001b[0mx\u001b[0m\u001b[1;33m)\u001b[0m\u001b[1;33m:\u001b[0m\u001b[1;33m\u001b[0m\u001b[1;33m\u001b[0m\u001b[0m\n\u001b[1;32m--> 361\u001b[1;33m                 \u001b[1;32mraise\u001b[0m \u001b[0mValueError\u001b[0m\u001b[1;33m(\u001b[0m\u001b[0mno_numeric\u001b[0m\u001b[1;33m)\u001b[0m\u001b[1;33m\u001b[0m\u001b[1;33m\u001b[0m\u001b[0m\n\u001b[0m\u001b[0;32m    362\u001b[0m             \u001b[1;32melse\u001b[0m\u001b[1;33m:\u001b[0m\u001b[1;33m\u001b[0m\u001b[1;33m\u001b[0m\u001b[0m\n\u001b[0;32m    363\u001b[0m                 \u001b[1;32mreturn\u001b[0m \u001b[1;34m\"h\"\u001b[0m\u001b[1;33m\u001b[0m\u001b[1;33m\u001b[0m\u001b[0m\n",
      "\u001b[1;31mValueError\u001b[0m: Neither the `x` nor `y` variable appears to be numeric."
     ]
    }
   ],
   "source": [
    "import seaborn as sns\n",
    "#sns.boxplot(x=\"day\", y=\"total_bill\", hue=\"smoker\", data=df, palette=\"Set1\")\n",
    "sns.boxplot(\n",
    "    x = \"neighbourhood_group_cleansed\",\n",
    "    y = \"price\",\n",
    "    data = df,\n",
    "    palette = \"Set1\"\n",
    ")"
   ]
  },
  {
   "cell_type": "code",
   "execution_count": null,
   "metadata": {},
   "outputs": [],
   "source": [
    "data_dict[(data_dict[\"Group\"] == \"Property-related\") & (data_dict[\"Subgroup\"] == \"Pricing\")]"
   ]
  },
  {
   "cell_type": "code",
   "execution_count": null,
   "metadata": {},
   "outputs": [],
   "source": [
    "# If a host has a hugh number of properties then their ratings are not higher than \n",
    "# hosts with fewer properties\n",
    "bins = [1, 60, 119, 179, 239, 299]\n",
    "\n",
    "# labels - always one less than the range\n",
    "group_names = [\"0-59 properties\", \"60-119 properties\", \"120-179 properties\", \"180-239 properties\", \"240+ properties\"]\n",
    "\n",
    "df[\"Bin_NumProperties\"] = pd.cut(df[\"host_total_listings_count\"], bins, labels=group_names)\n",
    "\n",
    "# df_analyze = pd.concat([df[\"host_id\"], df[\"host_total_listings_count\"], df[\"Bin_NumProperties\"]]).unique()\n",
    "df_analyze = df.groupby([\"host_id\", \"host_total_listings_count\"])\n",
    "df_analyze.head()\n",
    "\n",
    "df.groupby([\"host_id\", \"host_total_listings_count\"]).count()\n",
    "# Hosts that have host_total_listings_count == 0\n",
    "\n",
    "any_dupe_listings = df.groupby([\"host_id\"]).agg({\n",
    "        # number of unique listings\n",
    "        'host_total_listings_count': \"nunique\"\n",
    "    }\n",
    ")\n",
    "\n",
    "# Are there any where the listing count is wrong?\n",
    "any_dupe_listings[any_dupe_listings[\"host_total_listings_count\"] > 1]\n",
    "print(\"No - no bad data\")"
   ]
  },
  {
   "cell_type": "code",
   "execution_count": 14,
   "metadata": {},
   "outputs": [
    {
     "data": {
      "text/plain": [
       "<matplotlib.collections.PathCollection at 0x2623dcea128>"
      ]
     },
     "execution_count": 14,
     "metadata": {},
     "output_type": "execute_result"
    },
    {
     "data": {
      "image/png": "[encoded data removed]",
      "text/plain": [
       "<Figure size 432x288 with 1 Axes>"
      ]
     },
     "metadata": {
      "needs_background": "light"
     },
     "output_type": "display_data"
    }
   ],
   "source": [
    "# Drop all values outside the normal distribution:\n",
    "x_values = df[\"review_scores_cleanliness\"]\n",
    "y_values = df[\"review_scores_rating\"]\n",
    "plt.scatter(x_values, y_values)"
   ]
  },
  {
   "cell_type": "code",
   "execution_count": 15,
   "metadata": {},
   "outputs": [
    {
     "data": {
      "text/plain": [
       "<seaborn.axisgrid.FacetGrid at 0x26230103470>"
      ]
     },
     "execution_count": 15,
     "metadata": {},
     "output_type": "execute_result"
    },
    {
     "data": {
      "image/png": "[encoded data removed]",
      "text/plain": [
       "<Figure size 432x432 with 1 Axes>"
      ]
     },
     "metadata": {},
     "output_type": "display_data"
    }
   ],
   "source": [
    "# Use seaborn library to create a relplot\n",
    "sns.set(style=\"white\")\n",
    "\n",
    "x_values = df[\"review_scores_cleanliness\"]\n",
    "y_values = df[\"review_scores_rating\"]\n",
    "\n",
    "sns.relplot(\n",
    "    x=\"review_scores_cleanliness\", \n",
    "    y=\"review_scores_rating\", \n",
    "    #hue=\"origin\", \n",
    "    #size=\"weight\",\n",
    "    #sizes=(40, 400), \n",
    "    #alpha=.5, \n",
    "    palette=\"muted\",\n",
    "    height=6, \n",
    "    data=df\n",
    ")"
   ]
  },
  {
   "cell_type": "markdown",
   "metadata": {},
   "source": [
    "Use the function catplot to show the relationship between a numerical and one or more categorical variables using one of several visual representation. "
   ]
  },
  {
   "cell_type": "code",
   "execution_count": 16,
   "metadata": {},
   "outputs": [
    {
     "data": {
      "image/png": "[encoded data removed]",
      "text/plain": [
       "<Figure size 360x360 with 1 Axes>"
      ]
     },
     "metadata": {},
     "output_type": "display_data"
    }
   ],
   "source": [
    "# Potential question: Of the six dimensions for ratings (Accuracy, Cleanliness, Checkin, Communication, Location, Value), \n",
    "# is one more important than the rest? \n",
    "# Example: if a property is a low Cleanliness score, would it be more likely that all other scores \n",
    "# are also lower on average?\n",
    "\n",
    "sns.catplot(\n",
    "    x=\"review_scores_value\", \n",
    "    y=\"review_scores_rating\", \n",
    "    data=df\n",
    ");"
   ]
  },
  {
   "cell_type": "code",
   "execution_count": 17,
   "metadata": {},
   "outputs": [
    {
     "data": {
      "image/png": "[encoded data removed]",
      "text/plain": [
       "<Figure size 360x360 with 1 Axes>"
      ]
     },
     "metadata": {},
     "output_type": "display_data"
    }
   ],
   "source": [
    "sns.catplot(\n",
    "    x=\"review_scores_value\", \n",
    "    y=\"review_scores_rating\", \n",
    "    data=df,\n",
    "    kind=\"box\"\n",
    ");"
   ]
  },
  {
   "cell_type": "code",
   "execution_count": 18,
   "metadata": {},
   "outputs": [
    {
     "data": {
      "image/png": "[encoded data removed]",
      "text/plain": [
       "<Figure size 360x360 with 1 Axes>"
      ]
     },
     "metadata": {},
     "output_type": "display_data"
    }
   ],
   "source": [
    "sns.catplot(\n",
    "    x=\"review_scores_cleanliness\", \n",
    "    y=\"review_scores_rating\", \n",
    "    data=df,\n",
    "    kind=\"box\"\n",
    ");"
   ]
  },
  {
   "cell_type": "code",
   "execution_count": 19,
   "metadata": {},
   "outputs": [
    {
     "data": {
      "text/plain": [
       "<seaborn.axisgrid.FacetGrid at 0x26248371828>"
      ]
     },
     "execution_count": 19,
     "metadata": {},
     "output_type": "execute_result"
    },
    {
     "data": {
      "image/png": "[encoded data removed]",
      "text/plain": [
       "<Figure size 360x360 with 1 Axes>"
      ]
     },
     "metadata": {},
     "output_type": "display_data"
    }
   ],
   "source": [
    "sns.catplot(\n",
    "    x=\"review_scores_cleanliness\", \n",
    "    y=\"review_scores_rating\", \n",
    "    kind=\"boxen\",\n",
    "    data = df.sort_values(\"price\")\n",
    ")"
   ]
  },
  {
   "cell_type": "code",
   "execution_count": 20,
   "metadata": {},
   "outputs": [
    {
     "data": {
      "text/plain": [
       "<seaborn.axisgrid.FacetGrid at 0x2623e696c18>"
      ]
     },
     "execution_count": 20,
     "metadata": {},
     "output_type": "execute_result"
    },
    {
     "data": {
      "image/png": "[encoded data removed]",
      "text/plain": [
       "<Figure size 360x360 with 1 Axes>"
      ]
     },
     "metadata": {},
     "output_type": "display_data"
    }
   ],
   "source": [
    "sns.catplot(\n",
    "    x=\"review_scores_cleanliness\", \n",
    "    y=\"review_scores_rating\", \n",
    "    kind=\"boxen\",\n",
    "    data=df\n",
    ")"
   ]
  },
  {
   "cell_type": "markdown",
   "metadata": {},
   "source": [
    "DATA VALIDATION 2:\n",
    "------------------------------\n",
    "Evaluate dataset to identify variables that are correlated\n",
    "\n",
    "We are using the heatmap to represent the data in a 2-dimensional form and obtain\n",
    "a colored visual summary of information."
   ]
  },
  {
   "cell_type": "code",
   "execution_count": 21,
   "metadata": {},
   "outputs": [
    {
     "data": {
      "image/png": "[encoded data removed]",
      "text/plain": [
       "<Figure size 792x648 with 2 Axes>"
      ]
     },
     "metadata": {},
     "output_type": "display_data"
    }
   ],
   "source": [
    "# Create data frame correlation\n",
    "corr = df.corr()\n",
    "\n",
    "# Generate a mask for the upper triangle\n",
    "mask = np.triu(np.ones_like(corr, dtype=np.bool))\n",
    "\n",
    "# Set up the matplotlib figure\n",
    "f, ax = plt.subplots(figsize=(11, 9))\n",
    "\n",
    "# Generate a custom diverging colormap\n",
    "#cmap = sns.diverging_palette(220, 10, as_cmap=True)\n",
    "cmap='coolwarm'\n",
    "\n",
    "# Labels\n",
    "ax.set_title('Diagonal Correlation Matrix Using Seaborn')\n",
    "\n",
    "# Draw the heatmap with the mask and correct aspect ratio\n",
    "sns.heatmap(\n",
    "    corr, \n",
    "    mask=mask, \n",
    "    cmap=cmap, \n",
    "    vmax=.3, \n",
    "    center=0,\n",
    "    square=True, \n",
    "    linewidths=.5, \n",
    "    cbar_kws={\"shrink\": .5}\n",
    ").get_figure().savefig('correlation_matrix.png') # Save to a file\n",
    "\n",
    "plt.show()"
   ]
  },
  {
   "cell_type": "code",
   "execution_count": 22,
   "metadata": {},
   "outputs": [
    {
     "data": {
      "image/png": "[encoded data removed]",
      "text/plain": [
       "<Figure size 432x288 with 2 Axes>"
      ]
     },
     "metadata": {},
     "output_type": "display_data"
    }
   ],
   "source": [
    "sns.heatmap(\n",
    "    df[[\"price\", \"bedrooms\", \"cleaning_fee\", \"neighbourhood_group_cleansed\"]].corr(),\n",
    "    vmin=-1,\n",
    "    vmax=1,\n",
    "    cmap='coolwarm',\n",
    "    annot=True\n",
    ");"
   ]
  },
  {
   "cell_type": "markdown",
   "metadata": {},
   "source": [
    "CLEANING THE DATA 1:\n",
    "----------------------------------\n",
    "Cleaning raw data to delete the column with not values, columns values duplicated, columns with data not required."
   ]
  },
  {
   "cell_type": "code",
   "execution_count": null,
   "metadata": {
    "scrolled": true
   },
   "outputs": [],
   "source": [
    "# Drop unneeded columns:\n",
    "df = df.drop(columns = [\n",
    "    \"listing_url\", \n",
    "    \"thumbnail_url\", \n",
    "    \"picture_url\",    \n",
    "    \"medium_url\",    \n",
    "    \"xl_picture_url\", \n",
    "    \"host_url\",       \n",
    "    \"host_thumbnail_url\", \n",
    "    \"host_picture_url\",  \n",
    "    \"scrape_id\",   \n",
    "    \"host_listings_count\", \n",
    "    \"host_acceptance_rate\", \n",
    "    \"calendar_last_scraped\",\n",
    "    \"bed_type\",\n",
    "    \"last_scraped\",\n",
    "    \"calendar_updated\",\n",
    "    \"has_availability\",\n",
    "    \"availability_30\", \n",
    "    \"availability_60\", \n",
    "    \"availability_90\", \n",
    "    \"license\"\n",
    "])\n",
    "\n",
    "df.head(1)"
   ]
  },
  {
   "cell_type": "markdown",
   "metadata": {},
   "source": [
    "CLEANING THE DATA 2:\n",
    "----------------------------------\n",
    "- Get names of indexes for which column number_of_reviews has value 0 and droppping the rows."
   ]
  },
  {
   "cell_type": "code",
   "execution_count": null,
   "metadata": {},
   "outputs": [],
   "source": [
    "# Drop by index:\n",
    "indexNames = df[df['number_of_reviews'] == 0 ].index\n",
    "df.drop(indexNames , inplace=True)\n",
    "\n",
    "# Drop rows with number_of_reviews = NaN\n",
    "df.dropna(axis=0, subset=('number_of_reviews', ))\n",
    "\n",
    "# Drop rows with NaN review data\n",
    "df.dropna(axis=0, subset=(\n",
    "    'review_scores_rating', \n",
    "    'review_scores_accuracy', \n",
    "    'review_scores_cleanliness', \n",
    "    'review_scores_checkin', \n",
    "    'review_scores_communication', \n",
    "    'review_scores_location', \n",
    "    'review_scores_value'\n",
    "))\n",
    "\n",
    "print(f'Remaining rows after cleanup: {len(df)}')\n"
   ]
  },
  {
   "cell_type": "markdown",
   "metadata": {},
   "source": [
    "CLEANING THE DATA 3:\n",
    "-----------------------------------------------------------\n",
    "- Remove the dollar symbol ($) from the pricing  based columns:\n",
    "\"price\", \"weekly_price\",\"monthly_price\",\"security_deposit\",\"cleaning_fee\", \"extra_people\"  "
   ]
  },
  {
   "cell_type": "code",
   "execution_count": null,
   "metadata": {},
   "outputs": [],
   "source": [
    "# Strip the $ out of the pricing-based columns\n",
    "data_dict[(data_dict[\"Group\"] == \"Property-related\") & (data_dict[\"Subgroup\"] == \"Pricing\")]\n",
    "\n",
    "if df[\"price\"].dtype != \"float64\":\n",
    "    df[\"price\"] = df[\"price\"].str.replace(\"$\", \"\")\n",
    "    df[\"price\"] = df[\"price\"].str.replace(\",\", \"\")\n",
    "    df[\"price\"] = df[\"price\"].astype(\"float64\")\n",
    "\n",
    "if df[\"weekly_price\"].dtype != \"float64\":\n",
    "    df[\"weekly_price\"] = df[\"weekly_price\"].str.replace(\"$\", \"\")\n",
    "    df[\"weekly_price\"] = df[\"weekly_price\"].str.replace(\",\", \"\")\n",
    "    df[\"weekly_price\"] = df[\"weekly_price\"].astype(\"float64\")\n",
    "\n",
    "if df[\"monthly_price\"].dtype != \"float64\":\n",
    "    df[\"monthly_price\"] = df[\"monthly_price\"].str.replace(\"$\", \"\")\n",
    "    df[\"monthly_price\"] = df[\"monthly_price\"].str.replace(\",\", \"\")\n",
    "    df[\"monthly_price\"] = df[\"monthly_price\"].astype(\"float64\")\n",
    "    \n",
    "if df[\"security_deposit\"].dtype != \"float64\":\n",
    "    df[\"security_deposit\"] = df[\"security_deposit\"].str.replace(\"$\", \"\")\n",
    "    df[\"security_deposit\"] = df[\"security_deposit\"].str.replace(\",\", \"\")\n",
    "    df[\"security_deposit\"] = df[\"security_deposit\"].astype(\"float64\")\n",
    "    \n",
    "if df[\"cleaning_fee\"].dtype != \"float64\":\n",
    "    df[\"cleaning_fee\"] = df[\"cleaning_fee\"].str.replace(\"$\", \"\")\n",
    "    df[\"cleaning_fee\"] = df[\"cleaning_fee\"].str.replace(\",\", \"\")\n",
    "    df[\"cleaning_fee\"] = df[\"cleaning_fee\"].astype(\"float64\")   \n",
    "\n",
    "if df[\"extra_people\"].dtype != \"float64\":\n",
    "    df[\"extra_people\"] = df[\"extra_people\"].str.replace(\"$\", \"\")\n",
    "    df[\"extra_people\"] = df[\"extra_people\"].str.replace(\",\", \"\")\n",
    "    df[\"extra_people\"] = df[\"extra_people\"].astype(\"float64\")\n",
    "    \n",
    "# Show certain groups\n",
    "df.loc[:,data_dict[data_dict[\"Group\"] == \"Host-related\"][\"Column\"]]"
   ]
  },
  {
   "cell_type": "markdown",
   "metadata": {},
   "source": [
    "\n",
    "HYPOTHESIS\n",
    "-----------------------------------"
   ]
  },
  {
   "cell_type": "markdown",
   "metadata": {},
   "source": [
    "Ho:\n",
    " There are certain factors that have an impact on the overall rating of an Air BNB property.\n",
    " \n",
    "H1:\n",
    " None of the factors that we are analyzing have any impact on the overall rating of a property."
   ]
  },
  {
   "cell_type": "markdown",
   "metadata": {},
   "source": [
    "\n",
    "ANALYSIS OF THE DATA\n",
    "-----------------------------------"
   ]
  },
  {
   "cell_type": "markdown",
   "metadata": {},
   "source": [
    "Evaluate the relationship between \"how many properties someone has\" and review_scores_rating\n",
    "-----------------------------------------------------------------------------------------------------------------"
   ]
  },
  {
   "cell_type": "raw",
   "metadata": {},
   "source": [
    "Observations:\n",
    "There is a statistically significant difference between the ratings depending on how many properties a host manages. One of the reasons we suspect this to be true is related to oversight of the properties. In the first bin with the least amount of properties, the ratings are quite high, with a drop off in average rating in the second and third group. We suspect that is because individuals and small businesses owning a small number of properties may do very well if they've only aquired a small amount of properties that they are able to look after with ease, but as they aquire more properties, oversight and general management of the properties may become more difficult. In our fourth bin, the average rating goes back up. This could be because property management companies are more than likely managing that number of properties, and in the middle range of the number of properties, they are again more likely to have the resources to conduct an appropriate amount of oversight needed to manage the properties well. As property management companies grow, they might be stretched more thin. Also, if you use a variable cost model to predict income and expenses, it may be much more expensive to manage such a large group of properties, and those property management groups may decide to cut costs in order to save money, which also potentially impacts how well the properties are maintained."
   ]
  },
  {
   "cell_type": "code",
   "execution_count": null,
   "metadata": {},
   "outputs": [],
   "source": [
    "# Define the bins by number of properties by host\n",
    "bins = [0, 50, 100, 150, 200, 250, 299]\n",
    "\n",
    "# labels - always one less than the range\n",
    "group_names = [\"0-50 properties\", \"51-100 properties\", \"101-150 properties\", \"151-200 properties\",\\\n",
    "               \"201-250 properties\", \"251+ properties\"]\n",
    "\n",
    "df[\"Bin_NumProperties\"] = pd.cut(df[\"calculated_host_listings_count\"], bins, labels=group_names)\n",
    "\n",
    "rating_mean_by_bin = df.groupby(\"Bin_NumProperties\").mean()[\"review_scores_rating\"]\n",
    "\n",
    "df.head(2)"
   ]
  },
  {
   "cell_type": "code",
   "execution_count": null,
   "metadata": {},
   "outputs": [],
   "source": [
    "# Define the axis\n",
    "x_axis = group_names\n",
    "y_axis = rating_mean_by_bin\n",
    "\n",
    "# Bring in the colors from Hawaii\n",
    "hawaiian_hibiscus_hex_palette = [\"#ffa4cd\", \"#ff4e9e\", \"#ff0040\", \"#ffcd55\", \"#ffa700\"]\n",
    "\n",
    "#Define the properties of the figure\n",
    "plt.subplots(figsize=(15,10))\n",
    "plt.title(\"Average Rating per Number of Properties\")\n",
    "plt.xlabel(\"Number of Properties\")\n",
    "plt.ylabel(\"Average Rating\")\n",
    "plt.xticks(rotation=90)\n",
    "plt.ylim(80, 100)\n",
    "plt.bar(x_axis, y_axis, color = hawaiian_hibiscus_hex_palette)\n",
    "\n",
    "#Show the figure\n",
    "plt.show"
   ]
  },
  {
   "cell_type": "code",
   "execution_count": null,
   "metadata": {},
   "outputs": [],
   "source": [
    "df.boxplot(\"review_scores_rating\", by=\"Bin_NumProperties\", figsize=(20, 10))"
   ]
  },
  {
   "cell_type": "code",
   "execution_count": null,
   "metadata": {},
   "outputs": [],
   "source": [
    "# Extract individual groups\n",
    "group1 = df[df[\"Bin_NumProperties\"] == \"0-50 properties\"][\"review_scores_rating\"].dropna()\n",
    "group2 = df[df[\"Bin_NumProperties\"] == \"51-100 properties\"][\"review_scores_rating\"].dropna()\n",
    "group3 = df[df[\"Bin_NumProperties\"] == \"101-150 properties\"][\"review_scores_rating\"].dropna()\n",
    "group4 = df[df[\"Bin_NumProperties\"] == \"151-200 properties\"][\"review_scores_rating\"].dropna()\n",
    "group5 = df[df[\"Bin_NumProperties\"] == \"201-250 properties\"][\"review_scores_rating\"].dropna()\n",
    "group6 = df[df[\"Bin_NumProperties\"] == \"251+ properties\"][\"review_scores_rating\"].dropna()\n",
    "\n",
    "stats.f_oneway(group1, group2, group3, group4, group5, group6)"
   ]
  },
  {
   "cell_type": "markdown",
   "metadata": {},
   "source": [
    "Evaluate the relationship between \"neighbourhood\" and review_scores_rating\n",
    "-------------------------------------------------------------------------------------------------"
   ]
  },
  {
   "cell_type": "raw",
   "metadata": {},
   "source": [
    "Observations:"
   ]
  },
  {
   "cell_type": "code",
   "execution_count": null,
   "metadata": {},
   "outputs": [],
   "source": [
    "neighborhood_list = df[\"neighbourhood\"].unique()\n",
    "\n",
    "average_rating_per_neighborhood = df.groupby(\"neighbourhood\").mean()[\"review_scores_rating\"]\n",
    "average_rating_per_neighborhood.sort_values(ascending=True)\n",
    "\n",
    "\n",
    "cleaned_neighborhood_list = [x for x in neighborhood_list if str(x) != 'nan']\n",
    "cleaned_neighborhood_list\n",
    "\n",
    "x_axis = cleaned_neighborhood_list\n",
    "y_axis = average_rating_per_neighborhood\n",
    "\n",
    "hawaiian_hibiscus_hex_palette = [\"#ffa4cd\", \"#ff4e9e\", \"#ff0040\", \"#ffcd55\", \"#ffa700\"]\n",
    "\n",
    "plt.subplots(figsize=(15,10))\n",
    "plt.xticks(rotation=90)\n",
    "plt.title(\"Average Rating for each Neighborhood\")\n",
    "plt.xlabel(\"Neighborhood\")\n",
    "plt.ylabel(\"Average Rating\")\n",
    "plt.ylim(60, 100)\n",
    "plt.bar(x_axis, y_axis, color = hawaiian_hibiscus_hex_palette, align='center')\n",
    "plt.show"
   ]
  },
  {
   "cell_type": "markdown",
   "metadata": {},
   "source": [
    "Evaluate the relationship between \"price\" and review_scores_rating\n",
    "-------------------------------------------------------------------------------------------------"
   ]
  },
  {
   "cell_type": "markdown",
   "metadata": {},
   "source": [
    "Observations:"
   ]
  },
  {
   "cell_type": "code",
   "execution_count": null,
   "metadata": {},
   "outputs": [],
   "source": [
    "# Define axis\n",
    "x_axis = df[\"price\"]\n",
    "y_axis = df[\"review_scores_rating\"]\n",
    "\n",
    "\n",
    "mask = ~np.isnan(x_axis) & ~np.isnan(y_axis)\n",
    "slope, intercept, r_value, p_value, std_err = stats.linregress(x_axis[mask], y_axis[mask])\n",
    "regress_values = x_axis * slope + intercept\n",
    "line_eq = \"y = \" + str(round(slope,4)) + \"x + \" + str(round(intercept,4))\n",
    "\n",
    "plt.subplots(figsize=(15,10))\n",
    "plt.xticks(rotation=90)\n",
    "plt.xlim(0, 5500)\n",
    "plt.plot(x_axis,regress_values,\"r-\", color = \"#ff0040\")\n",
    "plt.scatter(x_axis,y_axis, marker=\".\", color=\"#ffa700\")\n",
    "plt.annotate(line_eq,(4000,50),fontsize=15,color=\"#ff4e9e\")\n",
    "plt.title(\"Average Rating vs Price\")\n",
    "plt.xlabel('Price')\n",
    "plt.ylabel('Rating')\n",
    "print(f\"The r-squared is: {r_value}\")\n",
    "plt.show()"
   ]
  },
  {
   "cell_type": "markdown",
   "metadata": {},
   "source": [
    "Evaluate the relationship between \"number of bedrooms\" and review_scores_rating.\n",
    "-------------------------------------------------------------------------------------------------------------------------"
   ]
  },
  {
   "cell_type": "raw",
   "metadata": {},
   "source": [
    "Observations:\n",
    "The results were actually pretty uniform across each bin. They all hovered within an average rating of 95 and above. The highest rating was hosts with 13+ beds. This could be due to several reasons. Possibly since these houses have so many beds, the houses were extremely nice or high-end properties, so the guests rated these affluent properties highly. Another reason could be that, since the guests required so many beds, they have a ton of friends/family coming along. This would lead to an altogether more enjoyable time which in turn would lead to a favorable host rating whether the property was good or not. "
   ]
  },
  {
   "cell_type": "markdown",
   "metadata": {},
   "source": [
    "Create a new data frane (df2) so it didn't interfere with the data frame df"
   ]
  },
  {
   "cell_type": "code",
   "execution_count": null,
   "metadata": {},
   "outputs": [],
   "source": [
    "# create a dataframe with no 0's for 'number of beds' becuase that would be inaccurate data\n",
    "df2 = df.copy()\n",
    "df2 = df2[(df2['beds'] != 0)]"
   ]
  },
  {
   "cell_type": "raw",
   "metadata": {},
   "source": [
    "Make 7 bins, the final being 13+ for outliers with a large number of beds. This would show if there was a dramatic change in rating for any outliers."
   ]
  },
  {
   "cell_type": "code",
   "execution_count": null,
   "metadata": {},
   "outputs": [],
   "source": [
    "# zero beds is actually an option. A 'sofa bed' is not a real bed and is not counted as such.\n",
    "bins = [0, 2, 4, 6, 8, 10, 12, 20]\n",
    "\n",
    "group_names = [\"1-2 beds\", \"3-4 beds\", \"5-6 beds\", \"7-8 beds\", \"9-10 beds\", \"11-12 beds\", \"13+ beds\"]\n",
    "\n",
    "df2[\"bin_bed_count\"] = pd.cut(df2[\"beds\"], bins, labels=group_names)\n",
    "\n",
    "rating_mean_by_bed_count = df2.groupby(\"bin_bed_count\").mean()[\"review_scores_rating\"]"
   ]
  },
  {
   "cell_type": "raw",
   "metadata": {},
   "source": [
    "Then charted a bar graph to display the relation of bed numbers to average rating. The x axis contains the bins for the beds and the y axis is the average host rating."
   ]
  },
  {
   "cell_type": "code",
   "execution_count": null,
   "metadata": {},
   "outputs": [],
   "source": [
    "x_axis = group_names\n",
    "y_axis = rating_mean_by_bed_count\n",
    "\n",
    "hawaiian_hex_palette = [\"#00739f\", \"#b23948\", \"#ff000e\", \"#ff407c\", \"#ffb2e1\"]\n",
    "\n",
    "plt.subplots(figsize=(15,10))\n",
    "plt.title(\"Average Rating per Number of Beds\")\n",
    "plt.xlabel(\"Number of Beds\")\n",
    "plt.ylabel(\"Average Rating\")\n",
    "plt.xticks(rotation=90)\n",
    "plt.ylim(80, 100)\n",
    "plt.bar(x_axis, y_axis, color = hawaiian_hibiscus_hex_palette)\n",
    "plt.show"
   ]
  },
  {
   "cell_type": "code",
   "execution_count": null,
   "metadata": {},
   "outputs": [],
   "source": [
    "# Extract individual groups\n",
    "group1 = df2[df2[\"bin_bed_count\"] == \"1-2 beds\"][\"review_scores_rating\"].dropna()\n",
    "group2 = df2[df2[\"bin_bed_count\"] == \"3-4 beds\"][\"review_scores_rating\"].dropna()\n",
    "group3 = df2[df2[\"bin_bed_count\"] == \"5-6 beds\"][\"review_scores_rating\"].dropna()\n",
    "group4 = df2[df2[\"bin_bed_count\"] == \"7-8 beds\"][\"review_scores_rating\"].dropna()\n",
    "group5 = df2[df2[\"bin_bed_count\"] == \"9-10 beds\"][\"review_scores_rating\"].dropna()\n",
    "group6 = df2[df2[\"bin_bed_count\"] == \"11-12 beds\"][\"review_scores_rating\"].dropna()\n",
    "group7 = df2[df2[\"bin_bed_count\"] == \"13+ beds\"][\"review_scores_rating\"].dropna()\n",
    "\n",
    "stats.f_oneway(group1, group2, group3, group4, group5, group6, group7)"
   ]
  },
  {
   "cell_type": "markdown",
   "metadata": {},
   "source": [
    "Evaluate the relationship between \"Island\" and review_scores_rating\n",
    "--------------------------------------------------------------------------------------------------"
   ]
  },
  {
   "cell_type": "markdown",
   "metadata": {},
   "source": [
    "Observations:"
   ]
  },
  {
   "cell_type": "markdown",
   "metadata": {},
   "source": [
    "### Comparison between average rating given for properties by Island"
   ]
  },
  {
   "cell_type": "code",
   "execution_count": null,
   "metadata": {},
   "outputs": [],
   "source": [
    "# grouping by columns needed and taking average of ratings per island\n",
    "average_rating_island = df.groupby(\"neighbourhood_group_cleansed\").mean()[\"review_scores_rating\"].sort_values(ascending=False)\n",
    "average_rating_island.head()"
   ]
  },
  {
   "cell_type": "code",
   "execution_count": null,
   "metadata": {
    "scrolled": true
   },
   "outputs": [],
   "source": [
    "average_rating_island = df.groupby(\"neighbourhood_group_cleansed\").mean()[\"review_scores_rating\"]\n",
    "properties_island = df.groupby(\"neighbourhood_group_cleansed\").count()[\"id\"]\n",
    "average_rating_island.head()"
   ]
  },
  {
   "cell_type": "code",
   "execution_count": null,
   "metadata": {},
   "outputs": [],
   "source": [
    "# create variables and dataframe for desired data and ability to sort later\n",
    "islands = df[\"neighbourhood_group_cleansed\"].unique()\n",
    "sorted_island_df = pd.DataFrame({\"Average Rating\": average_rating_island})\n",
    "\n",
    "# reset index to reference column in graph\n",
    "sorted_island_df = sorted_island_df.reset_index()\n",
    "sorted_island_df"
   ]
  },
  {
   "cell_type": "code",
   "execution_count": null,
   "metadata": {},
   "outputs": [],
   "source": [
    "# set x and y axis for bar graph\n",
    "x_axis = sorted_island_df[\"neighbourhood_group_cleansed\"].unique()\n",
    "y_axis = average_rating_island.sort_values(ascending=False)\n",
    "\n",
    "# print lables/title and x/y limits to improve visual\n",
    "plt.subplots(figsize=(15,10))\n",
    "plt.title(\"Average Rating per Island\")\n",
    "plt.xlabel(\"Islands\")\n",
    "plt.ylabel(\"Average Rating\")\n",
    "plt.xticks(rotation=90)\n",
    "plt.ylim(85, 100)\n",
    "\n",
    "# display graph\n",
    "plt.bar(x_axis, y_axis, color = hawaiian_hibiscus_hex_palette)\n",
    "plt.show"
   ]
  },
  {
   "cell_type": "markdown",
   "metadata": {},
   "source": [
    "### Based on this graph, you can see that on average, ratings given are higher for properties on Hawaii island."
   ]
  },
  {
   "cell_type": "code",
   "execution_count": null,
   "metadata": {},
   "outputs": [],
   "source": [
    "# numerical summary creation of box plot and anova\n",
    "df.boxplot(\"review_scores_rating\", by=\"neighbourhood_group_cleansed\", figsize=(20, 10))\n",
    "group1 = df[df[\"neighbourhood_group_cleansed\"] == \"Hawaii\"][\"review_scores_rating\"].dropna()\n",
    "group2 = df[df[\"neighbourhood_group_cleansed\"] == \"Maui\"][\"review_scores_rating\"].dropna()\n",
    "group3 = df[df[\"neighbourhood_group_cleansed\"] == \"Kauai\"][\"review_scores_rating\"].dropna()\n",
    "group4 = df[df[\"neighbourhood_group_cleansed\"] == \"Honolulu\"][\"review_scores_rating\"].dropna()\n",
    "\n",
    "stats.f_oneway(group1, group2, group3, group4)"
   ]
  },
  {
   "cell_type": "markdown",
   "metadata": {},
   "source": [
    "### P value is less than 0.05 and therefore statistically significant and can reject our null hypothesis."
   ]
  },
  {
   "cell_type": "markdown",
   "metadata": {},
   "source": [
    "Evaluate the relationship between \"Type of room\" and review scores rating\n",
    "-------------------------------------------------------------------------------------------------------------"
   ]
  },
  {
   "cell_type": "markdown",
   "metadata": {},
   "source": [
    "Observations:"
   ]
  },
  {
   "cell_type": "code",
   "execution_count": null,
   "metadata": {},
   "outputs": [],
   "source": [
    "# create variables and dataframe for desired data and ability to sort later\n",
    "average_rating_room = df.groupby(\"room_type\").mean()[\"review_scores_rating\"].sort_values(ascending=False)\n",
    "sorted_room_df = pd.DataFrame({\"Average Rating\": average_rating_room})\n",
    "\n",
    "# reset index to reference column in graph\n",
    "sorted_room_df = sorted_room_df.reset_index()\n",
    "sorted_room_df"
   ]
  },
  {
   "cell_type": "code",
   "execution_count": null,
   "metadata": {},
   "outputs": [],
   "source": [
    "# set x and y axis for bar graph\n",
    "x_axis = sorted_room_df[\"room_type\"].unique()\n",
    "y_axis = average_rating_room\n",
    "\n",
    "# print lables/title and x/y limits to improve visual\n",
    "plt.subplots(figsize=(15,10))\n",
    "plt.title(\"Average Rating per Type of Room\")\n",
    "plt.xlabel(\"Room Type\")\n",
    "plt.ylabel(\"Average Rating\")\n",
    "plt.xticks(rotation=90)\n",
    "plt.ylim(80, 100)\n",
    "\n",
    "# display graph\n",
    "plt.bar(x_axis, y_axis, color = hawaiian_hibiscus_hex_palette)\n",
    "plt.show"
   ]
  },
  {
   "cell_type": "markdown",
   "metadata": {},
   "source": [
    "### Heat map showing the location of the Airbnb listings based on rating scores."
   ]
  },
  {
   "cell_type": "code",
   "execution_count": null,
   "metadata": {},
   "outputs": [],
   "source": [
    "# create variables to put in heat layer\n",
    "locations = df[[\"latitude\", \"longitude\"]]\n",
    "rating = df['review_scores_value'].astype(float)\n",
    "\n",
    "# set zoom level and coordinates based on hawaii coordinates\n",
    "fig = gmaps.figure(center=(20.716179,-157.5828),zoom_level=7)\n",
    "\n",
    "# create heat layer\n",
    "heat_layer = gmaps.heatmap_layer(locations, weights=rating, \n",
    "                                 dissipating=False, max_intensity=100,\n",
    "                                 point_radius=.02\n",
    "                                )\n",
    "# add heat layer\n",
    "fig.add_layer(heat_layer)\n",
    "\n",
    "# display figure\n",
    "fig"
   ]
  },
  {
   "cell_type": "markdown",
   "metadata": {
    "scrolled": true
   },
   "source": [
    "### Scatter plot showing Airbnb listings based on availability over a 365 day period."
   ]
  },
  {
   "cell_type": "code",
   "execution_count": null,
   "metadata": {},
   "outputs": [],
   "source": [
    "# creat scatter plot based on location and availability over 365 day period\n",
    "plt.figure(figsize=(10,6))\n",
    "plt.scatter(df.longitude, df.latitude, c=df.availability_365, cmap='spring', edgecolor='black', linewidth=1, alpha=0.75)\n",
    "\n",
    "cbar = plt.colorbar()\n",
    "cbar.set_label('availability_365')"
   ]
  },
  {
   "cell_type": "markdown",
   "metadata": {},
   "source": [
    "Results:\n",
    "The number of properties owned by a host does impact the overall rating.\n",
    "The number of bedrooms does not have an impact on rating.\n",
    "The neighborhood of the property does have an affect on the rating.\n",
    "The price of a property does not have a correlation to the rating of the property.\n",
    "The island that the property is on does appear to have an affect on the average rating.\n",
    "The island that the property is on does appear to have an affect on the average rating.\n",
    "There are slightly higher ratings on average for private rooms and entire homes than hotel rooms and shared rooms."
   ]
  },
  {
   "cell_type": "raw",
   "metadata": {},
   "source": [
    "Conclusions:\n",
    "Neighborhood of the property and Island that the property is on ----> are attributes that impact overall rating of Airbnb properties\n",
    "\n",
    "Number of properties owned by a host, Number of bedrooms and Price of a property  ----> don't impact overall rating of Airbnb properties\n",
    "\n",
    "\n"
   ]
  }
 ],
 "metadata": {
  "kernelspec": {
   "display_name": "Python 3",
   "language": "python",
   "name": "python3"
  },
  "language_info": {
   "codemirror_mode": {
    "name": "ipython",
    "version": 3
   },
   "file_extension": ".py",
   "mimetype": "text/x-python",
   "name": "python",
   "nbconvert_exporter": "python",
   "pygments_lexer": "ipython3",
   "version": "3.7.3"
  }
 },
 "nbformat": 4,
 "nbformat_minor": 2
}
